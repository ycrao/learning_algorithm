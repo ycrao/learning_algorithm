{
 "cells": [
  {
   "cell_type": "markdown",
   "metadata": {},
   "source": [
    "回文十进制数\n",
    "----\n",
    "\n",
    "### 问题\n",
    "\n",
    "求用十进制、二进制、八进制表示都是回文数的所有数字中，大于十进制数10的最小值。"
   ]
  },
  {
   "cell_type": "markdown",
   "metadata": {},
   "source": [
    "### 答案\n",
    "\n",
    "十进制的 585\n",
    "二进制 是 1001001001\n",
    "八进制 是 1111"
   ]
  },
  {
   "cell_type": "code",
   "execution_count": 31,
   "metadata": {},
   "outputs": [
    {
     "name": "stdout",
     "output_type": "stream",
     "text": [
      "585\n",
      "0b1001001001\n",
      "0o1111\n"
     ]
    }
   ],
   "source": [
    "def str_reversed(str_num):\n",
    "    \"\"\"\n",
    "    反转字符串\n",
    "    \"\"\"\n",
    "    return ''.join(reversed(str_num))\n",
    "\n",
    "def covert_bin_str(b_num):\n",
    "    \"\"\"\n",
    "    转换成为二进制数字字符串\n",
    "    \"\"\"\n",
    "    return str.replace(str(b_num), '0b', '')\n",
    "\n",
    "def covert_oct_str(o_num):\n",
    "    \"\"\"\n",
    "    转换成为八进制数字字符串\n",
    "    \"\"\"\n",
    "    return str.replace(str(o_num), '0o', '')\n",
    "    \n",
    "num = 11\n",
    "\n",
    "while True:\n",
    "    b_num = bin(num)\n",
    "    o_num = oct(num)\n",
    "    if (str(num) == str_reversed(str(num))) and (covert_bin_str(b_num) == str_reversed(covert_bin_str(b_num))) and (covert_oct_str(o_num) == str_reversed(covert_oct_str(o_num))):\n",
    "        print(num)\n",
    "        print(b_num)\n",
    "        print(o_num)\n",
    "        break\n",
    "    else:\n",
    "        num += 2"
   ]
  },
  {
   "cell_type": "code",
   "execution_count": null,
   "metadata": {},
   "outputs": [],
   "source": []
  }
 ],
 "metadata": {
  "kernelspec": {
   "display_name": "Python 3",
   "language": "python",
   "name": "python3"
  },
  "language_info": {
   "codemirror_mode": {
    "name": "ipython",
    "version": 3
   },
   "file_extension": ".py",
   "mimetype": "text/x-python",
   "name": "python",
   "nbconvert_exporter": "python",
   "pygments_lexer": "ipython3",
   "version": "3.7.6"
  }
 },
 "nbformat": 4,
 "nbformat_minor": 4
}
