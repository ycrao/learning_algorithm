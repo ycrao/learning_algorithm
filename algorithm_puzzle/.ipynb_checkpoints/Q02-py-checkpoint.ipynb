{
 "cells": [
  {
   "cell_type": "markdown",
   "metadata": {},
   "source": [
    "数列的四则运算\n",
    "----\n",
    "\n",
    "### 问题\n",
    "\n",
    "```plaintext\n",
    "351 -> 3*51 = 153\n",
    "621 -> 6*21 = 126\n",
    "886 -> 8*86 = 688\n",
    "```\n",
    "\n",
    "求位于 1000 - 9999，满足上面 正序的原数字四则运算 等于逆序排列得到的数。"
   ]
  },
  {
   "cell_type": "markdown",
   "metadata": {},
   "source": [
    "### 答案\n",
    "\n",
    "5931\n",
    "\n",
    "注意：python 的 `eval(1*0*01)` 指令会报错，因为 `01` 不是合法的数字，应写成 `1` 才行。\n",
    "\n",
    "算法代码如下："
   ]
  },
  {
   "cell_type": "code",
   "execution_count": 29,
   "metadata": {},
   "outputs": [
    {
     "name": "stdout",
     "output_type": "stream",
     "text": [
      "5931\n"
     ]
    }
   ],
   "source": [
    "import re\n",
    "def str_reversed(str_num):\n",
    "    \"\"\"\n",
    "    反转字符串\n",
    "    \"\"\"\n",
    "    return ''.join(reversed(str_num))\n",
    "\n",
    "\n",
    "ops = ('*', '')\n",
    "for i in range(1000, 10000):\n",
    "    s = str(i)\n",
    "    for oj in ops:\n",
    "        for ok in ops:\n",
    "            for ol in ops:\n",
    "                val = s[0] + oj + s[1] + ok + s[2] + ol + s[3]\n",
    "                # eval(1*0*01) 避免与 01 相乘的错误\n",
    "                m = re.search('\\*(0+)[0-9]+', val)\n",
    "                if m is not None:\n",
    "                    s0 = m.group(0)\n",
    "                    s1 = m.group(1)\n",
    "                    val = str.replace(val, '*' + s1, '')\n",
    "                if len(val) > 4:\n",
    "                    r = eval(val)\n",
    "                    if str_reversed(s) == str(r):\n",
    "                        print(s)\n",
    "    "
   ]
  },
  {
   "cell_type": "code",
   "execution_count": 31,
   "metadata": {},
   "outputs": [
    {
     "data": {
      "text/plain": [
       "9"
      ]
     },
     "execution_count": 31,
     "metadata": {},
     "output_type": "execute_result"
    }
   ],
   "source": [
    "eval('1*9*1')"
   ]
  },
  {
   "cell_type": "code",
   "execution_count": null,
   "metadata": {},
   "outputs": [],
   "source": []
  }
 ],
 "metadata": {
  "kernelspec": {
   "display_name": "Python 3",
   "language": "python",
   "name": "python3"
  },
  "language_info": {
   "codemirror_mode": {
    "name": "ipython",
    "version": 3
   },
   "file_extension": ".py",
   "mimetype": "text/x-python",
   "name": "python",
   "nbconvert_exporter": "python",
   "pygments_lexer": "ipython3",
   "version": "3.7.6"
  }
 },
 "nbformat": 4,
 "nbformat_minor": 4
}
